{
 "cells": [
  {
   "cell_type": "markdown",
   "metadata": {},
   "source": [
    "# Constant Pressure reactor example\n",
    "This module supports:\n",
    "* Concentration distribution\n",
    "* ROP analysis\n",
    "* Flux diagram\n",
    "\n",
    "Function been developing:\n",
    "* Sensitivity analysis\n",
    "* Uncertainty analysis "
   ]
  },
  {
   "cell_type": "markdown",
   "metadata": {},
   "source": [
    "## 0. Package loading"
   ]
  },
  {
   "cell_type": "code",
   "execution_count": null,
   "metadata": {},
   "outputs": [],
   "source": [
    "using DifferentialEquations\n",
    "using PythonPlot\n",
    "using ReactionMechanismSimulator"
   ]
  },
  {
   "cell_type": "markdown",
   "metadata": {},
   "source": [
    "## 1. Read input file. \n",
    "Currently the input file is the superminimal (H2 combustion) example in `/src/testing/`"
   ]
  },
  {
   "cell_type": "code",
   "execution_count": null,
   "metadata": {
    "scrolled": false
   },
   "outputs": [],
   "source": [
    "#######################    INPUT     #######################\n",
    "file_path = \"/Users/xiaorui/Apps/ReactionMechanismSimulator.jl/src/testing/superminimal.rms\";\n",
    "############################################################"
   ]
  },
  {
   "cell_type": "code",
   "execution_count": null,
   "metadata": {},
   "outputs": [],
   "source": [
    "#load mechanism dictionary\n",
    "phaseDict = readinput(file_path); \n",
    "#mechanism dictionaries index:  phaseDict[phasename][\"Species\" or \"Reactions\"]\n",
    "spcs = phaseDict[\"phase\"][\"Species\"]; \n",
    "rxns = phaseDict[\"phase\"][\"Reactions\"];"
   ]
  },
  {
   "cell_type": "markdown",
   "metadata": {},
   "source": [
    "## 2. Parameters\n",
    "With constant P module, you need to assign two initial parameters out of\n",
    "* Temperature\n",
    "* Volume\n",
    "* Pressure\n",
    "\n",
    "Besides, you need to assign the initial species distribution in [mol] <br>\n",
    "If Comparison to Chemkin is wanted, Using V and T instead of P is suggested"
   ]
  },
  {
   "cell_type": "code",
   "execution_count": null,
   "metadata": {},
   "outputs": [],
   "source": [
    "#######################    INPUT     #######################\n",
    "V0 = 8.314 * 1000 / 1e5;  # [m^3] # Comparison with chemkin\n",
    "P0 = 1.0e+5; #[Pa]\n",
    "# T0 = 1000; #[K]\n",
    "H2 = 0.67;  #[mol]\n",
    "O2 = 0.33;  #[mol]\n",
    "N0 = H2 + O2; \n",
    "############################################################"
   ]
  },
  {
   "cell_type": "code",
   "execution_count": null,
   "metadata": {},
   "outputs": [],
   "source": [
    "# Define the phase (how species thermodynamic and kinetic properties calculated)\n",
    "ig = IdealGas(spcs,rxns,name=\"phase\");\n",
    "# Define initial condition of the reactor\n",
    "initialconds = Dict([\"V\"=>V0,\"P\"=>P0, \"H2\"=>H2,\"O2\"=>O2]); \n",
    "# Define the domain (encodes how system thermodynamic properties calculated)\n",
    "domain,y0 = ConstantPDomain(phase=ig,initialconds=initialconds);"
   ]
  },
  {
   "cell_type": "markdown",
   "metadata": {},
   "source": [
    "## 3. Simulation\n",
    "In this section, simulation related parameters need to be assigned:\n",
    "* time span (usually, slightly longer than the length of interets)\n",
    "* Solver type\n",
    "* absolute error\n",
    "* relative error"
   ]
  },
  {
   "cell_type": "code",
   "execution_count": null,
   "metadata": {},
   "outputs": [],
   "source": [
    "#######################    INPUT     #######################\n",
    "t_final = 2.1; #[s]\n",
    "solver = DifferentialEquations.CVODE_BDF();\n",
    "abstol = 1e-20;\n",
    "reltol = 1e-12;\n",
    "############################################################"
   ]
  },
  {
   "cell_type": "code",
   "execution_count": null,
   "metadata": {},
   "outputs": [],
   "source": [
    "react = Reactor(domain,y0,(0.0,t_final)); #Create the reactor object"
   ]
  },
  {
   "cell_type": "code",
   "execution_count": null,
   "metadata": {
    "scrolled": true
   },
   "outputs": [],
   "source": [
    "#solve the ode associated with the reactor\n",
    "sol = solve(react.ode,solver, abstol=reltol,reltol=reltol);\n",
    "bsol = Simulation(sol,domain);"
   ]
  },
  {
   "cell_type": "markdown",
   "metadata": {},
   "source": [
    "## 4. Results\n",
    "Several results can be displayed:\n",
    "* Concentration distribution\n",
    "* Concentration and parameters time profile\n",
    "* ROP analysis\n",
    "\n",
    "Built-in functions are available:\n",
    "*`molefraction()`\n",
    "\n",
    "but you can also build your customized functions."
   ]
  },
  {
   "cell_type": "code",
   "execution_count": null,
   "metadata": {},
   "outputs": [],
   "source": [
    "sol(2.0000)[domain.indexes[end]]"
   ]
  },
  {
   "cell_type": "code",
   "execution_count": null,
   "metadata": {},
   "outputs": [],
   "source": [
    "molefractions(bsol,\"H2\", 1.96)"
   ]
  },
  {
   "cell_type": "code",
   "execution_count": null,
   "metadata": {},
   "outputs": [],
   "source": [
    "getfluxdiagram(bsol,1.96,centralspecieslist=[\"H2\"],radius=5)"
   ]
  },
  {
   "cell_type": "code",
   "execution_count": null,
   "metadata": {},
   "outputs": [],
   "source": [
    "plotmolefractions(bsol, 1.96);"
   ]
  },
  {
   "cell_type": "code",
   "execution_count": null,
   "metadata": {},
   "outputs": [],
   "source": [
    "plotrops(bsol,\"H2\",1.96)"
   ]
  },
  {
   "cell_type": "code",
   "execution_count": null,
   "metadata": {},
   "outputs": [],
   "source": []
  }
 ],
 "metadata": {
  "@webio": {
   "lastCommId": null,
   "lastKernelId": null
  },
  "kernelspec": {
   "display_name": "Julia 1.1.0",
   "language": "julia",
   "name": "julia-1.1"
  },
  "language_info": {
   "file_extension": ".jl",
   "mimetype": "application/julia",
   "name": "julia",
   "version": "1.1.0"
  }
 },
 "nbformat": 4,
 "nbformat_minor": 2
}
