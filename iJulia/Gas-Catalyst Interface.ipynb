{
 "cells": [
  {
   "cell_type": "code",
   "execution_count": null,
   "metadata": {},
   "outputs": [],
   "source": [
    "using ReactionMechanismSimulator\n",
    "using PyPlot\n",
    "using DifferentialEquations\n",
    "using Sundials"
   ]
  },
  {
   "cell_type": "code",
   "execution_count": null,
   "metadata": {},
   "outputs": [],
   "source": [
    "phaseDict = readinput(\"../src/testing/ch4o2cat.rms\") #load mechanism dictionary"
   ]
  },
  {
   "cell_type": "code",
   "execution_count": null,
   "metadata": {},
   "outputs": [],
   "source": [
    "gasspcs = phaseDict[\"gas\"][\"Species\"]; #mechanism dictionaries index:  phaseDict[phasename][\"Species\" or \"Reactions\"]\n",
    "gasrxns = phaseDict[\"gas\"][\"Reactions\"];\n",
    "surfacespcs = phaseDict[\"surface\"][\"Species\"]\n",
    "surfacerxns = phaseDict[\"surface\"][\"Reactions\"]\n",
    "interfacerxns = phaseDict[Set([\"gas\",\"surface\"])][\"Reactions\"];"
   ]
  },
  {
   "cell_type": "code",
   "execution_count": null,
   "metadata": {},
   "outputs": [],
   "source": [
    "ig = IdealGas(gasspcs,gasrxns;name=\"gas\"); #Define the phase (how species thermodynamic and kinetic properties calculated)\n",
    "cat = IdealSurface(surfacespcs,surfacerxns,2.486e-5;name=\"surface\");"
   ]
  },
  {
   "cell_type": "code",
   "execution_count": null,
   "metadata": {},
   "outputs": [],
   "source": [
    "initialconds = Dict([\"T\"=>800.0,\"P\"=>1.0e5,\n",
    "        \"O2\"=>0.2,\n",
    "        \"N2\"=>0.7,\n",
    "        \"CH4\"=>0.1]); #Set simulation Initial Temp and Pressure\n",
    "domaingas,y0gas,pgas = ConstantTPDomain(phase=ig,initialconds=initialconds,); #Define the domain (encodes how system thermodynamic properties calculated)"
   ]
  },
  {
   "cell_type": "code",
   "execution_count": null,
   "metadata": {},
   "outputs": [],
   "source": [
    "V = 8.314*800.0/1.0e5\n",
    "A = 1.0e5*V\n",
    "initialconds = Dict([\"T\"=>800.0,\"A\"=>A,\"vacantX\"=>cat.sitedensity*A]); #Set simulation Initial Temp and Pressure\n",
    "domaincat,y0cat,pcat = ConstantTAPhiDomain(phase=cat,initialconds=initialconds,); #Define the domain (encodes how system thermodynamic properties calculated)"
   ]
  },
  {
   "cell_type": "code",
   "execution_count": null,
   "metadata": {},
   "outputs": [],
   "source": [
    "inter,pinter = ReactiveInternalInterfaceConstantTPhi(domaingas,domaincat,interfacerxns,800.0,A);"
   ]
  },
  {
   "cell_type": "code",
   "execution_count": null,
   "metadata": {},
   "outputs": [],
   "source": [
    "react,y0,p = Reactor((domaingas,domaincat),(y0gas,y0cat),(0.0,0.1),(inter,),(pgas,pcat,pinter)); #Create the reactor object"
   ]
  },
  {
   "cell_type": "code",
   "execution_count": null,
   "metadata": {},
   "outputs": [],
   "source": [
    "@time sol = solve(react.ode,CVODE_BDF(),abstol=1e-20,reltol=1e-6); #solve the ode associated with the reactor"
   ]
  },
  {
   "cell_type": "code",
   "execution_count": null,
   "metadata": {},
   "outputs": [],
   "source": [
    "sol.retcode == :Success"
   ]
  },
  {
   "cell_type": "code",
   "execution_count": null,
   "metadata": {},
   "outputs": [],
   "source": [
    "ssys = SystemSimulation(sol,(domaingas,domaincat,),(inter,),p);"
   ]
  },
  {
   "cell_type": "code",
   "execution_count": null,
   "metadata": {},
   "outputs": [],
   "source": [
    "plotmolefractions(ssys.sims[2];exclude=[\"N2\"],tol=0.001)\n",
    "xlim(0.0,3e-5)"
   ]
  },
  {
   "cell_type": "code",
   "execution_count": null,
   "metadata": {},
   "outputs": [],
   "source": [
    "plotmolefractions(ssys.sims[1];exclude=[\"N2\"])\n",
    "xlim(0.0,3e-5)"
   ]
  },
  {
   "cell_type": "code",
   "execution_count": null,
   "metadata": {},
   "outputs": [],
   "source": [
    "plotrops(ssys,\"H2OX\",0.2e-5)"
   ]
  },
  {
   "cell_type": "code",
   "execution_count": null,
   "metadata": {},
   "outputs": [],
   "source": [
    "plotrops(ssys,\"CO2X\",1e-5)"
   ]
  },
  {
   "cell_type": "code",
   "execution_count": null,
   "metadata": {},
   "outputs": [],
   "source": [
    "getfluxdiagram(ssys,0.1e-5)"
   ]
  },
  {
   "cell_type": "code",
   "execution_count": null,
   "metadata": {},
   "outputs": [],
   "source": []
  }
 ],
 "metadata": {
  "@webio": {
   "lastCommId": null,
   "lastKernelId": null
  },
  "kernelspec": {
   "display_name": "Julia 1.4.2",
   "language": "julia",
   "name": "julia-1.4"
  },
  "language_info": {
   "file_extension": ".jl",
   "mimetype": "application/julia",
   "name": "julia",
   "version": "1.4.2"
  }
 },
 "nbformat": 4,
 "nbformat_minor": 4
}
