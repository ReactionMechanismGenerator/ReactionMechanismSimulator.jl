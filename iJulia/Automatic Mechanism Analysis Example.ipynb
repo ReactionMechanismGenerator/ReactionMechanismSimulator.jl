{
 "cells": [
  {
   "cell_type": "code",
   "execution_count": null,
   "id": "5572e441",
   "metadata": {},
   "outputs": [],
   "source": [
    "using Sundials\n",
    "using PythonPlot\n",
    "using ReactionMechanismSimulator"
   ]
  },
  {
   "cell_type": "code",
   "execution_count": null,
   "id": "65ce150e",
   "metadata": {},
   "outputs": [],
   "source": [
    "#Methyl Propyl Ether mechanism from Johnson et al. 2021\n",
    "#https://doi.org/10.1002/kin.21489\n",
    "phaseDict = readinput(\"/Users/mattjohnson/RMGCODE/ReactionMechanismSimulator/src/testing/propyl_methyl_ether.rms\")"
   ]
  },
  {
   "cell_type": "code",
   "execution_count": null,
   "id": "2beb84b8",
   "metadata": {},
   "outputs": [],
   "source": [
    "spcs = phaseDict[\"phase\"][\"Species\"]; #mechanism dictionaries index:  phaseDict[phasename][\"Species\" or \"Reactions\"]\n",
    "rxns = phaseDict[\"phase\"][\"Reactions\"];"
   ]
  },
  {
   "cell_type": "code",
   "execution_count": null,
   "id": "48c57696",
   "metadata": {},
   "outputs": [],
   "source": [
    "ig = IdealGas(spcs,rxns,name=\"gas\"); #Define the phase (how species thermodynamic and kinetic properties calculated)"
   ]
  },
  {
   "cell_type": "code",
   "execution_count": null,
   "id": "b45a6313",
   "metadata": {},
   "outputs": [],
   "source": [
    "initialconds = Dict([\"T\"=>700.0,\"P\"=>15.0e5,\"PME\"=>1.0/6.0,\"O2\"=>1.0, \"N2\"=>7.65*0.5, \"AR\"=>7.65*0.5]); #Set simulation Initial Temp and Pressure\n",
    "domain,y0,p = ConstantVDomain(phase=ig,initialconds=initialconds); #Define the domain (encodes how system thermodynamic properties calculated)"
   ]
  },
  {
   "cell_type": "code",
   "execution_count": null,
   "id": "e1693a8f",
   "metadata": {},
   "outputs": [],
   "source": [
    "react = Reactor(domain,y0,(0.0,0.02);p=p); #Create the reactor object\n",
    "sol = solve(react.ode,CVODE_BDF(),abstol=1e-16,reltol=1e-6); #solve the ode associated with the reactor\n",
    "sim = Simulation(sol,domain);"
   ]
  },
  {
   "cell_type": "code",
   "execution_count": null,
   "id": "3fffeae7",
   "metadata": {},
   "outputs": [],
   "source": [
    "plot(sim.sol.t,getT.(sim,sim.sol.t))"
   ]
  },
  {
   "cell_type": "code",
   "execution_count": null,
   "id": "a245b27d",
   "metadata": {},
   "outputs": [],
   "source": [
    "plotrxntransitorysensitivities(sim,\"PME\",0.0012;N=15)"
   ]
  },
  {
   "cell_type": "code",
   "execution_count": null,
   "id": "69135b2a",
   "metadata": {},
   "outputs": [],
   "source": [
    "plotradicalrops(sim,0.0012;N=15)"
   ]
  },
  {
   "cell_type": "code",
   "execution_count": null,
   "id": "aa8fd9e3",
   "metadata": {},
   "outputs": [],
   "source": [
    "analysis = analyzespc(sim,\"PME\",0.0012;N=10);"
   ]
  },
  {
   "cell_type": "code",
   "execution_count": null,
   "id": "ab79738f",
   "metadata": {
    "scrolled": true
   },
   "outputs": [],
   "source": [
    "printrxnanalysis.(sim,analysis)"
   ]
  },
  {
   "cell_type": "code",
   "execution_count": null,
   "id": "cd994535",
   "metadata": {},
   "outputs": [],
   "source": [
    "getfluxdiagram(sim,0.0012,analysis[1].paths[1])"
   ]
  },
  {
   "cell_type": "code",
   "execution_count": null,
   "id": "d159fbdf",
   "metadata": {},
   "outputs": [],
   "source": [
    "getfluxdiagram(sim,0.0012,analysis[1].branchings[2])"
   ]
  },
  {
   "cell_type": "code",
   "execution_count": null,
   "id": "8fd0fc0e",
   "metadata": {},
   "outputs": [],
   "source": []
  }
 ],
 "metadata": {
  "@webio": {
   "lastCommId": null,
   "lastKernelId": null
  },
  "kernelspec": {
   "display_name": "Julia 1.6.2",
   "language": "julia",
   "name": "julia-1.6"
  },
  "language_info": {
   "file_extension": ".jl",
   "mimetype": "application/julia",
   "name": "julia",
   "version": "1.6.2"
  }
 },
 "nbformat": 4,
 "nbformat_minor": 5
}
